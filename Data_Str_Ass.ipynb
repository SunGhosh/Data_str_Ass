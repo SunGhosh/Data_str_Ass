{
  "nbformat": 4,
  "nbformat_minor": 0,
  "metadata": {
    "colab": {
      "provenance": []
    },
    "kernelspec": {
      "name": "python3",
      "display_name": "Python 3"
    },
    "language_info": {
      "name": "python"
    }
  },
  "cells": [
    {
      "cell_type": "markdown",
      "source": [
        "1)What are data structures, and why are they important\n",
        "==> Data structures are ways of organizing and storing data so it can be accessed and modified efficiently.\n",
        "\n",
        "Importance:\n",
        "\n",
        "Improve data processing speed\n",
        "\n",
        "Enable efficient storage\n",
        "\n",
        "Make complex tasks easier (searching, sorting, updating)\n",
        "\n",
        "Form the foundation for algorithms and applications\n",
        "\n",
        "2)Explain the difference between mutable and immutable data types with examples?\n",
        "==> Mutable Data Types → Can be changed after creation\n",
        "lst = [1, 2, 3]\n",
        "lst[0] = 10\n",
        "print(lst)\n",
        "Immutable Data Types → Cannot be changed after creation\n",
        "tup = (1, 2, 3)\n",
        "tup[2] = 7\n",
        "print(tup)\n",
        "\n",
        "\n",
        "3)What are the main differences between lists and tuples in Python?\n",
        "==> List- 1> mutable, syntax[1,2,3], used when data changes frequently , performance slower(flexible)\n",
        "Tuple- 1> immutable, syntax(1,2,3), used when data is fixed, performance fast\n",
        "\n",
        "\n",
        "4)Describe how dictionaries store data?\n",
        "==> It stores data in key: value pairs using hashing.\n",
        "keys must be unique and immutable(str, tuple,number)\n",
        "values can be mutable or immutable\n",
        "Python converts each key into a hash value to quickly find where it's located in memory.\n",
        "\n",
        "\n",
        "vendor_det = {\n",
        "    \"ven_code\": 292020,\n",
        "    \"ven_name\": \"Sun Ghosh\",\n",
        "    \"unit\": 78654,\n",
        "    \"price\": 892202\n",
        "}\n",
        "print(vendor_det[\"ven_code\"])\n",
        "\n",
        "\n",
        "5) Why might you use a set instead of a list in Python?\n",
        "==> You might use a set instead of a list when you need:\n",
        "No duplicates → Sets automatically remove duplicate elements.\n",
        "Fast lookups → Checking if an item exists is faster (O(1) on average) in a set compared to a list (O(n)).\n",
        "Set operations → You can easily do union, intersection, and difference between sets.\n",
        "\n",
        "\n",
        "6) What is a string in Python, and how is it different from a list?\n",
        "==>String in Python → A sequence of characters enclosed in quotes (' ' or \" \").\n",
        "strings- 1> immutable, 2> syntax(\"sun\"), 3> always charcters\n",
        "lista- 1> mutable 2> syntax([1,2,3]), 3> can be numbers strings objects\n",
        "\n",
        "\n",
        "7) How do tuples ensure data integrity in Python?\n",
        "==> Tuples ensure data integrity in Python because they are immutable — once created, their elements cannot be modified, added, or removed.\n",
        "This immutability means the data stays fixed, preventing accidental changes.\n",
        "\n",
        "\n",
        "8) What is a hash table, and how does it relate to dictionaries in Python?\n",
        "==> A data structure that stores key–value pairs and uses a hashing function to quickly find a value given its key.\n",
        "Python’s dict is implemented internally as a hash table.\n",
        "Keys are passed through a hash function to generate an index where the value is stored in memory.\n",
        "\n",
        "\n",
        "9)Can lists contain different data types in Python?\n",
        "Yes— lists in Python can contain different data types because Python lists are heterogeneous containers.\n",
        "\n",
        "\n",
        "10)Explain why strings are immutable in Python?\n",
        "Strings are immutable in Python because once a string is created in memory, its value cannot be changed — any modification creates a new string object instead of altering the original.\n",
        "\n",
        "\n",
        "11)What advantages do dictionaries offer over lists for certain tasks?\n",
        "Dictionaries use hash tables internally, so finding a value by its key is O(1) on average.\n",
        "In a list, finding an item requires scanning, which is O(n).\n",
        "Keys describe the data, making code more readable.\n",
        "In lists, you must remember positions (index numbers).\n",
        "In dictionaries, you just call the key.\n",
        "\n",
        "\n",
        "12)Describe a scenario where using a tuple would be preferable over a list?\n",
        "When you want to store fixed, unchangeable data that should not be accidentally modified — for example, geographical coordinates of a city.\n",
        "\n",
        "\n",
        "13)How do sets handle duplicate values in Python?\n",
        "Sets in Python do not allow duplicate values. When a duplicate is added, Python’s internal hash table structure detects it (using the element’s hash value) and ignores it, keeping only one copy.\n",
        "\n",
        "\n",
        "14)How does the “in” keyword work differently for lists and dictionaries?\n",
        "The in keyword checks whether a value exists in the list by scanning each element sequentially (linear search).\n",
        "Also checks whether a key exists in the dictionary (not values) using a hash table lookup (much faster).\n",
        "\n",
        "\n",
        "15)Can you modify the elements of a tuple? Explain why or why not?\n",
        "No, Python stores tuples in fixed memory, so changing an element would require creating a new tuple instead.\n",
        "\n",
        "\n",
        "16)What is a nested dictionary, and give an example of its use case?\n",
        "A nested dictionary is a dictionary where some values are themselves dictionaries.It allows storing hierarchical or structured data in multiple levels."
      ],
      "metadata": {
        "id": "vSU8JrC1sgYY"
      }
    },
    {
      "cell_type": "code",
      "source": [
        "ven_det={\n",
        "    \"ven1\": {\n",
        "        \"name\":\"Samkin\",\n",
        "        \"code\":281618,\n",
        "        \"pltype\":\"HDPE\"\n",
        "    },\n",
        "    \"ven2\":{\n",
        "        \"name\":\"Rekraft\",\n",
        "        \"code\":281288,\n",
        "        \"pltype\":\"LLDPE\"\n",
        "    }\n",
        "\n",
        "}"
      ],
      "metadata": {
        "id": "DdVArttwssfl"
      },
      "execution_count": null,
      "outputs": []
    },
    {
      "cell_type": "markdown",
      "source": [
        "17)Describe the time complexity of accessing elements in a dictionary?\n",
        "\n",
        "The dictionary calculates a hash value for the key and directly jumps to the memory location storing the value — no need to search through all elements.\n",
        "\n",
        "\n",
        "18) In what situations are lists preferred over dictionaries?\n",
        "\n",
        "Lists maintain the order of elements by default.\n",
        "Lists allow you to access elements using a numerical index.\n",
        "Unlike dictionaries, lists can have duplicate elements.\n",
        "Lists are simpler when you only need to store values, not key–value pairs.\n",
        "Perfect for sorting, slicing, reversing, and iterating in sequence.\n",
        "\n",
        "\n",
        "19) Why are dictionaries considered unordered, and how does that affect data retrieval?\n",
        "\n",
        "Traditionally, dictionaries in programming languages like Python are considered unordered collections because they store key-value pairs without guaranteeing any specific sequence for the keys.\n",
        "No Indexing by Position\n",
        "\n",
        "You can’t do my_dict[0] to get the \"first\" element like in a list.\n",
        "You must retrieve values using their keys.\n",
        "\n",
        "20)Explain the difference between a list and a dictionary in terms of data retrieval?\n",
        "\n",
        "Access elements by index/position\tAccess elements by key\n",
        "Syntax\tmy_list[2] → gets the 3rd item, my_dict[\"name\"] → gets the value for \"name\"\n",
        "my_list[2] → gets the 3rd item\n",
        "my_dict[\"name\"] → gets the value for \"name\"\n",
        "\n",
        "List-Best for ordered collections where position matters\n",
        "Dict- Best for key-value mappings where you need fast lookups by a unique identifier"
      ],
      "metadata": {
        "id": "L6IcrDYHRd40"
      }
    },
    {
      "cell_type": "markdown",
      "source": [],
      "metadata": {
        "id": "KPXccRL6RYFX"
      }
    },
    {
      "cell_type": "code",
      "source": [
        "'''1)Write a code to create a string with your name and print it'''\n",
        "\n",
        "str=\"Sun Ghosh\"\n",
        "print(str)"
      ],
      "metadata": {
        "colab": {
          "base_uri": "https://localhost:8080/"
        },
        "id": "CDdlx8h-li2W",
        "outputId": "8f29f60b-6af8-4ca6-d4dc-06fc1a59d86b"
      },
      "execution_count": 1,
      "outputs": [
        {
          "output_type": "stream",
          "name": "stdout",
          "text": [
            "Sun Ghosh\n"
          ]
        }
      ]
    },
    {
      "cell_type": "code",
      "source": [
        "'''Write a code to find the length of the string \"Hello World\"'''\n",
        "len(\"Hello World\")"
      ],
      "metadata": {
        "colab": {
          "base_uri": "https://localhost:8080/"
        },
        "id": "P5sXylccl5KY",
        "outputId": "5e0ce22c-65a8-404b-8e90-29ce5927c849"
      },
      "execution_count": 2,
      "outputs": [
        {
          "output_type": "execute_result",
          "data": {
            "text/plain": [
              "11"
            ]
          },
          "metadata": {},
          "execution_count": 2
        }
      ]
    },
    {
      "cell_type": "code",
      "source": [
        "'''Write a code to slice the first 3 characters from the string \"Python Programming\"'''\n",
        "str=\"Python Programming\"\n",
        "print(str[:3])"
      ],
      "metadata": {
        "colab": {
          "base_uri": "https://localhost:8080/"
        },
        "id": "OEj0tVvvmCY9",
        "outputId": "6cc51c44-e079-4ea9-cc50-ab488b3c7d89"
      },
      "execution_count": 5,
      "outputs": [
        {
          "output_type": "stream",
          "name": "stdout",
          "text": [
            "Pyt\n"
          ]
        }
      ]
    },
    {
      "cell_type": "code",
      "source": [
        "'''Write a code to convert the string \"hello\" to uppercase'''\n",
        "str=\"hello\"\n",
        "str.upper()"
      ],
      "metadata": {
        "colab": {
          "base_uri": "https://localhost:8080/",
          "height": 35
        },
        "id": "M3N7KtvYmdrB",
        "outputId": "2797afc2-65fe-4de8-f015-a97f8c640464"
      },
      "execution_count": 8,
      "outputs": [
        {
          "output_type": "execute_result",
          "data": {
            "text/plain": [
              "'HELLO'"
            ],
            "application/vnd.google.colaboratory.intrinsic+json": {
              "type": "string"
            }
          },
          "metadata": {},
          "execution_count": 8
        }
      ]
    },
    {
      "cell_type": "code",
      "source": [
        "'''Write a code to replace the word \"apple\" with \"orange\" in the string \"I like apple\"'''\n",
        "str=\"I like apple\"\n",
        "str.replace(\"apple\", \"orange\")"
      ],
      "metadata": {
        "colab": {
          "base_uri": "https://localhost:8080/",
          "height": 35
        },
        "id": "mkjFkPL_m7U4",
        "outputId": "5b8fc6df-50bb-4a31-faf4-e853f0fb62d9"
      },
      "execution_count": 9,
      "outputs": [
        {
          "output_type": "execute_result",
          "data": {
            "text/plain": [
              "'I like orange'"
            ],
            "application/vnd.google.colaboratory.intrinsic+json": {
              "type": "string"
            }
          },
          "metadata": {},
          "execution_count": 9
        }
      ]
    },
    {
      "cell_type": "code",
      "source": [
        "''' Write a code to create a list with numbers 1 to 5 and print it'''\n",
        "my_list = [1, 2, 3, 4, 5]\n",
        "print(my_list)\n"
      ],
      "metadata": {
        "colab": {
          "base_uri": "https://localhost:8080/"
        },
        "id": "mBZnDcuHnO-x",
        "outputId": "e6e3f327-087c-4fe3-be59-46c1502f2dc8"
      },
      "execution_count": 11,
      "outputs": [
        {
          "output_type": "stream",
          "name": "stdout",
          "text": [
            "[1, 2, 3, 4, 5]\n"
          ]
        }
      ]
    },
    {
      "cell_type": "code",
      "source": [
        "'''Write a code to append the number 10 to the list [1, 2, 3, 4]'''\n",
        "my_list = [1, 2, 3, 4]\n",
        "my_list.append(10)\n",
        "print(my_list)"
      ],
      "metadata": {
        "colab": {
          "base_uri": "https://localhost:8080/"
        },
        "id": "M8yARug8ngaa",
        "outputId": "1a186477-7650-4b58-a070-53f4f4f294dc"
      },
      "execution_count": 12,
      "outputs": [
        {
          "output_type": "stream",
          "name": "stdout",
          "text": [
            "[1, 2, 3, 4, 10]\n"
          ]
        }
      ]
    },
    {
      "cell_type": "code",
      "source": [
        "''' Write a code to remove the number 3 from the list [1, 2, 3, 4, 5]P'''\n",
        "my_list = [1, 2, 3, 4, 5]\n",
        "my_list.remove(3)\n",
        "print(my_list)"
      ],
      "metadata": {
        "colab": {
          "base_uri": "https://localhost:8080/"
        },
        "id": "U13rCEyyypjW",
        "outputId": "87423be9-8b47-4523-c66e-1f2a7e8f4389"
      },
      "execution_count": 14,
      "outputs": [
        {
          "output_type": "stream",
          "name": "stdout",
          "text": [
            "[1, 2, 4, 5]\n"
          ]
        }
      ]
    },
    {
      "cell_type": "code",
      "source": [
        "''' Write a code to access the second element in the list ['a', 'b', 'c', 'd']'''\n",
        "\n",
        "my_list = ['a', 'b', 'c', 'd']\n",
        "print(my_list[1])"
      ],
      "metadata": {
        "colab": {
          "base_uri": "https://localhost:8080/"
        },
        "id": "xUucrBTWy4pB",
        "outputId": "cc268855-8bc4-4ddf-da01-c55059c343b4"
      },
      "execution_count": 16,
      "outputs": [
        {
          "output_type": "stream",
          "name": "stdout",
          "text": [
            "b\n"
          ]
        }
      ]
    },
    {
      "cell_type": "code",
      "source": [
        "''' Write a code to reverse the list [10, 20, 30, 40, 50].'''\n",
        "my_list = [10, 20, 30, 40, 50]\n",
        "my_list.reverse()\n",
        "print(my_list)"
      ],
      "metadata": {
        "colab": {
          "base_uri": "https://localhost:8080/"
        },
        "id": "gbHFSDndy_dO",
        "outputId": "d2326183-53aa-4f7b-b61d-2f1e576922a6"
      },
      "execution_count": 19,
      "outputs": [
        {
          "output_type": "stream",
          "name": "stdout",
          "text": [
            "[50, 40, 30, 20, 10]\n"
          ]
        }
      ]
    },
    {
      "cell_type": "code",
      "source": [
        "''' Write a code to create a tuple with the elements 100, 200, 300 and print it'''\n",
        "my_tuple = (100, 200, 300)\n",
        "print(my_tuple)"
      ],
      "metadata": {
        "id": "fMJbrvn-zMJT"
      },
      "execution_count": null,
      "outputs": []
    },
    {
      "cell_type": "code",
      "source": [
        "'''Write a code to access the second-to-last element of the tuple ('red', 'green', 'blue', 'yellow').'''\n",
        "\n",
        "my_tuple = ('red', 'green', 'blue', 'yellow')\n",
        "print(my_tuple[-2])"
      ],
      "metadata": {
        "colab": {
          "base_uri": "https://localhost:8080/"
        },
        "id": "V3ZSnFpxzQXB",
        "outputId": "107213b2-31f4-4c3f-9f42-c5d661fcc893"
      },
      "execution_count": 20,
      "outputs": [
        {
          "output_type": "stream",
          "name": "stdout",
          "text": [
            "blue\n"
          ]
        }
      ]
    },
    {
      "cell_type": "code",
      "source": [
        "'''Write a code to find the minimum number in the tuple (10, 20, 5, 15).'''\n",
        "my_tuple = (10, 20, 5, 15)\n",
        "print(min(my_tuple))"
      ],
      "metadata": {
        "colab": {
          "base_uri": "https://localhost:8080/"
        },
        "id": "dKt60lA_zc2X",
        "outputId": "d338c5c8-597c-4e25-965e-e5d68d26ff70"
      },
      "execution_count": 21,
      "outputs": [
        {
          "output_type": "stream",
          "name": "stdout",
          "text": [
            "5\n"
          ]
        }
      ]
    },
    {
      "cell_type": "code",
      "source": [
        "'''Write a code to find the index of the element \"cat\" in the tuple ('dog', 'cat', 'rabbit').'''\n",
        "my_tuple = ('dog', 'cat', 'rabbit')\n",
        "print(my_tuple.index('cat'))"
      ],
      "metadata": {
        "colab": {
          "base_uri": "https://localhost:8080/"
        },
        "id": "I-I45RCSzjXh",
        "outputId": "1f5e146d-a652-4a71-913a-144f46e685a8"
      },
      "execution_count": 22,
      "outputs": [
        {
          "output_type": "stream",
          "name": "stdout",
          "text": [
            "1\n"
          ]
        }
      ]
    },
    {
      "cell_type": "code",
      "source": [
        "'''Write a code to create a tuple containing three different fruits and check if \"kiwi\" is in it.'''\n",
        "my_tup= (\"apple\",\"mango\",\"kiwi\")\n",
        "print(\"kiwi\" in my_tup)"
      ],
      "metadata": {
        "colab": {
          "base_uri": "https://localhost:8080/"
        },
        "id": "xcKMoMrJzzjA",
        "outputId": "1cb29566-472e-43f2-9e25-c74d25a032ae"
      },
      "execution_count": 23,
      "outputs": [
        {
          "output_type": "stream",
          "name": "stdout",
          "text": [
            "True\n"
          ]
        }
      ]
    },
    {
      "cell_type": "code",
      "source": [
        "''' Write a code to create a set with the elements 'a', 'b', 'c' and print it.'''\n",
        "my_set = {'a', 'b', 'c'}\n",
        "print(my_set)"
      ],
      "metadata": {
        "colab": {
          "base_uri": "https://localhost:8080/"
        },
        "id": "wtz-ychT0I9W",
        "outputId": "ac11f1e5-2c2b-4975-af07-099ba302067d"
      },
      "execution_count": 42,
      "outputs": [
        {
          "output_type": "stream",
          "name": "stdout",
          "text": [
            "{'b', 'a', 'c'}\n"
          ]
        }
      ]
    },
    {
      "cell_type": "code",
      "source": [
        "'''Write a code to clear all elements from the set {1, 2, 3, 4, 5}.'''\n",
        "my_set={1,2,3,4,5}\n",
        "my_set.clear()\n",
        "print(my_set)"
      ],
      "metadata": {
        "colab": {
          "base_uri": "https://localhost:8080/"
        },
        "id": "RohI9ygI0OZM",
        "outputId": "65cf3feb-8a7e-47c5-e0a1-3754a681016d"
      },
      "execution_count": 43,
      "outputs": [
        {
          "output_type": "stream",
          "name": "stdout",
          "text": [
            "set()\n"
          ]
        }
      ]
    },
    {
      "cell_type": "code",
      "source": [
        "'''Write a code to remove the element 4 from the set {1, 2, 3, 4}.'''\n",
        "my_set={1,2,3,4}\n",
        "my_set.remove(4)\n",
        "print(my_set)"
      ],
      "metadata": {
        "colab": {
          "base_uri": "https://localhost:8080/"
        },
        "id": "ImjODZ5L1OYS",
        "outputId": "44ddf130-909f-44d1-e5eb-95fcfd668305"
      },
      "execution_count": 25,
      "outputs": [
        {
          "output_type": "stream",
          "name": "stdout",
          "text": [
            "{1, 2, 3}\n"
          ]
        }
      ]
    },
    {
      "cell_type": "code",
      "source": [
        "''' Write a code to find the union of two sets {1, 2, 3} and {3, 4, 5}.'''\n",
        "my_set1={1,2,3}\n",
        "my_set2={3,4,5}\n",
        "print(my_set1.union(my_set2))"
      ],
      "metadata": {
        "colab": {
          "base_uri": "https://localhost:8080/"
        },
        "id": "ao9peV9P1ePw",
        "outputId": "16f858e3-2efb-4f7d-ffa9-907b47c45175"
      },
      "execution_count": 27,
      "outputs": [
        {
          "output_type": "stream",
          "name": "stdout",
          "text": [
            "{1, 2, 3, 4, 5}\n"
          ]
        }
      ]
    },
    {
      "cell_type": "code",
      "source": [
        "'''Write a code to find the intersection of two sets {1, 2, 3} and {2, 3, 4}.'''\n",
        "my_set1={1,2,3}\n",
        "my_set2={2,3,4}\n",
        "print(my_set1.intersection(my_set2))"
      ],
      "metadata": {
        "colab": {
          "base_uri": "https://localhost:8080/"
        },
        "id": "R5HljT6q1yz8",
        "outputId": "96a8bcd2-f989-48bf-c4fe-7614ef5b6dee"
      },
      "execution_count": 28,
      "outputs": [
        {
          "output_type": "stream",
          "name": "stdout",
          "text": [
            "{2, 3}\n"
          ]
        }
      ]
    },
    {
      "cell_type": "code",
      "source": [
        "''' Write a code to create a dictionary with the keys \"name\", \"age\", and \"city\", and print it.'''\n",
        "my_dict = {\n",
        "    \"name\": \"John\",\n",
        "    \"age\": 30,\n",
        "    \"city\": \"New York\"\n",
        "}\n",
        "print(my_dict)"
      ],
      "metadata": {
        "colab": {
          "base_uri": "https://localhost:8080/"
        },
        "id": "yCfWRCUi1_q0",
        "outputId": "4abb49d6-a0a2-40d1-db20-2f26e6ed8697"
      },
      "execution_count": 29,
      "outputs": [
        {
          "output_type": "stream",
          "name": "stdout",
          "text": [
            "{'name': 'John', 'age': 30, 'city': 'New York'}\n"
          ]
        }
      ]
    },
    {
      "cell_type": "code",
      "source": [
        "'''Write a code to add a new key-value pair \"country\": \"USA\" to the dictionary {'name': 'John', 'age': 25}.'''\n",
        "my_dict={\n",
        "    \"name\":\"John\",\n",
        "    \"age\":25\n",
        "}\n",
        "my_dict[\"country\"]=\"USA\"\n",
        "print(my_dict)"
      ],
      "metadata": {
        "colab": {
          "base_uri": "https://localhost:8080/"
        },
        "id": "0YqPb7BZ2ELe",
        "outputId": "a46e6664-4574-4244-e272-576bd7aa3d5a"
      },
      "execution_count": 30,
      "outputs": [
        {
          "output_type": "stream",
          "name": "stdout",
          "text": [
            "{'name': 'John', 'age': 25, 'country': 'USA'}\n"
          ]
        }
      ]
    },
    {
      "cell_type": "code",
      "source": [
        "''' Write a code to access the value associated with the key \"name\" in the dictionary {'name': 'Alice', 'age': 30}'''\n",
        "my_dict={\n",
        "    \"name\":\"Alice\",\n",
        "    \"age\":30\n",
        "}\n",
        "print(my_dict[\"name\"])"
      ],
      "metadata": {
        "colab": {
          "base_uri": "https://localhost:8080/"
        },
        "id": "BiGom4q82jV4",
        "outputId": "850f218b-4203-4a5f-cf13-79d0bd764b6b"
      },
      "execution_count": 31,
      "outputs": [
        {
          "output_type": "stream",
          "name": "stdout",
          "text": [
            "Alice\n"
          ]
        }
      ]
    },
    {
      "cell_type": "code",
      "source": [
        "'''. Write a code to remove the key \"age\" from the dictionary {'name': 'Bob', 'age': 22, 'city': 'New York'}.'''\n",
        "my_dict={'name': 'Bob', 'age': 22, 'city': 'New York'}\n",
        "my_dict.pop(\"age\")\n",
        "print(my_dict)"
      ],
      "metadata": {
        "colab": {
          "base_uri": "https://localhost:8080/"
        },
        "id": "KplDYbh62ulR",
        "outputId": "c499e45c-96e0-4e24-e1f9-ed0d50eb9b0b"
      },
      "execution_count": 32,
      "outputs": [
        {
          "output_type": "stream",
          "name": "stdout",
          "text": [
            "{'name': 'Bob', 'city': 'New York'}\n"
          ]
        }
      ]
    },
    {
      "cell_type": "code",
      "source": [
        "'''Write a code to check if the key \"city\" exists in the dictionary {'name': 'Alice', 'city': 'Paris'}.'''\n",
        "my_dict={'name': 'Alice', 'city': 'Paris'}\n",
        "print(\"city\" in (my_dict))"
      ],
      "metadata": {
        "colab": {
          "base_uri": "https://localhost:8080/"
        },
        "id": "4R1kWKCn3CXb",
        "outputId": "c91369ec-c5a9-46e9-c42f-1c9a2d552f58"
      },
      "execution_count": 33,
      "outputs": [
        {
          "output_type": "stream",
          "name": "stdout",
          "text": [
            "True\n"
          ]
        }
      ]
    },
    {
      "cell_type": "code",
      "source": [
        "'''Write a code to create a list, a tuple, and a dictionary, and print them all.'''\n",
        "my_list = [1, 2, 3]\n",
        "my_tuple = (4, 5, 6)\n",
        "my_dict = {'a': 1, 'b': 2, 'c': 3}\n",
        "print(my_list)\n",
        "print(my_tuple)\n",
        "print(my_dict)"
      ],
      "metadata": {
        "colab": {
          "base_uri": "https://localhost:8080/"
        },
        "id": "puojjVC23Wfj",
        "outputId": "f9b28efc-9d7f-4a74-b94b-e83a8a3ad34e"
      },
      "execution_count": 34,
      "outputs": [
        {
          "output_type": "stream",
          "name": "stdout",
          "text": [
            "[1, 2, 3]\n",
            "(4, 5, 6)\n",
            "{'a': 1, 'b': 2, 'c': 3}\n"
          ]
        }
      ]
    },
    {
      "cell_type": "code",
      "source": [
        "'''Write a code to create a list of 5 random numbers between 1 and 100, sort it in ascending order, and print the\n",
        "result.(replaced)'''\n",
        "import random\n",
        "my_list = random.sample(range(1,101),5)\n",
        "my_list.sort()\n",
        "print(my_list)\n",
        "\n"
      ],
      "metadata": {
        "colab": {
          "base_uri": "https://localhost:8080/"
        },
        "id": "1-sTnOf33k03",
        "outputId": "881e58a4-e4e6-4d17-e013-8e586a07837b"
      },
      "execution_count": 37,
      "outputs": [
        {
          "output_type": "stream",
          "name": "stdout",
          "text": [
            "[54, 58, 59, 81, 94]\n"
          ]
        }
      ]
    },
    {
      "cell_type": "code",
      "source": [
        "''' Write a code to create a list with strings and print the element at the third index.'''\n",
        "my_list = [\"apple\", \"banana\", \"cherry\", \"date\", \"elderberry\"]\n",
        "print(my_list[2])"
      ],
      "metadata": {
        "colab": {
          "base_uri": "https://localhost:8080/"
        },
        "id": "dB5xk0Id4JRR",
        "outputId": "791b2476-d305-49bb-a73b-2ef4e136c0be"
      },
      "execution_count": 38,
      "outputs": [
        {
          "output_type": "stream",
          "name": "stdout",
          "text": [
            "cherry\n"
          ]
        }
      ]
    },
    {
      "cell_type": "code",
      "source": [
        "''' Write a code to combine two dictionaries into one and print the result.'''\n",
        "dict1 = {'a': 1, 'b': 2}\n",
        "dict2 = {'c': 3, 'd': 4}\n",
        "dict1.update(dict2)\n",
        "print(dict1)"
      ],
      "metadata": {
        "colab": {
          "base_uri": "https://localhost:8080/"
        },
        "id": "61zLrXcs483y",
        "outputId": "03699592-0cf1-4c82-c9d6-a84e9cb7e234"
      },
      "execution_count": 39,
      "outputs": [
        {
          "output_type": "stream",
          "name": "stdout",
          "text": [
            "{'a': 1, 'b': 2, 'c': 3, 'd': 4}\n"
          ]
        }
      ]
    },
    {
      "cell_type": "code",
      "source": [
        "'''Write a code to convert a list of strings into a set.'''\n",
        "my_list = [\"apple\", \"banana\", \"cherry\", \"date\", \"elderberry\"]\n",
        "my_set = set(my_list)\n",
        "print(my_set)"
      ],
      "metadata": {
        "colab": {
          "base_uri": "https://localhost:8080/"
        },
        "id": "gzajssUm5FK8",
        "outputId": "c99de7ea-274f-459a-8bf3-c69af5f90bb7"
      },
      "execution_count": 41,
      "outputs": [
        {
          "output_type": "stream",
          "name": "stdout",
          "text": [
            "{'banana', 'apple', 'elderberry', 'cherry', 'date'}\n"
          ]
        }
      ]
    },
    {
      "cell_type": "markdown",
      "source": [],
      "metadata": {
        "id": "umDlC8Z1sc1G"
      }
    }
  ]
}